{
 "cells": [
  {
   "cell_type": "code",
   "execution_count": 11,
   "id": "215d5679-97ce-462b-a934-5b9addf9d755",
   "metadata": {},
   "outputs": [
    {
     "data": {
      "text/plain": [
       "'C:\\\\Users\\\\82106\\\\Desktop\\\\keb_기업연계'"
      ]
     },
     "execution_count": 11,
     "metadata": {},
     "output_type": "execute_result"
    }
   ],
   "source": [
    "%pwd"
   ]
  },
  {
   "cell_type": "code",
   "execution_count": 12,
   "id": "246547d2-0e2c-4eca-9447-f7de87628249",
   "metadata": {},
   "outputs": [],
   "source": [
    "import os\n",
    "import cv2\n",
    "import numpy as np\n",
    "import matplotlib.pyplot as plt\n",
    "%matplotlib inline"
   ]
  },
  {
   "cell_type": "code",
   "execution_count": 15,
   "id": "8e46badc-c45d-4f95-af56-d93e7cfac235",
   "metadata": {},
   "outputs": [
    {
     "name": "stdout",
     "output_type": "stream",
     "text": [
      "Processed 7261480e9074fa3c99c79cbfeca7599a.png\n",
      "Processed 7526ce15b566dab3e9885d09e725f81e.png\n",
      "Processed f3ab109dc78d846daa3e83d20afcccd5.png\n"
     ]
    }
   ],
   "source": [
    "base_path = '../blue_scratch_raw/yolodataset_blue_scratch_raw/images/val'\n",
    "target_dir = '../yolodataset_blue_scratch_raw/images/val'\n",
    "\n",
    "\n",
    "# 데이터 증강 함수\n",
    "def augment_image(img):\n",
    "    augmented_images = []\n",
    "\n",
    "    # Flip\n",
    "    flip_h = cv2.flip(img, 1)\n",
    "    augmented_images.append(flip_h)\n",
    "\n",
    "    flip_v = cv2.flip(img,0)\n",
    "    augmented_images.append(flip_v)\n",
    "\n",
    "    # Rotation\n",
    "    rotate_90 = cv2.rotate(img, cv2.ROTATE_90_CLOCKWISE)\n",
    "    augmented_images.append(rotate_90)\n",
    "    rotate_180 = cv2.rotate(img, cv2.ROTATE_180)\n",
    "    augmented_images.append(rotate_180)\n",
    "    rotate_270 = cv2.rotate(img, cv2.ROTATE_90_COUNTERCLOCKWISE)\n",
    "    augmented_images.append(rotate_270)\n",
    "\n",
    "    # Blur\n",
    "    blur = cv2.GaussianBlur(img, (5, 5), 0)\n",
    "    augmented_images.append(blur)\n",
    "\n",
    "    #Color Inversion\n",
    "    color_invert = cv2.bitwise_not(img)\n",
    "    augmented_images.append(color_invert)\n",
    "    \n",
    "    return augmented_images\n",
    "\n",
    "input_dir = '../blue_scratch_raw/yolodataset_blue_scratch_raw/images/val'\n",
    "output_dir = '../yolodataset_blue_scratch_raw/images/val'\n",
    "\n",
    "if not os.path.exists(output_dir):\n",
    "    os.makedirs(output_dir)\n",
    "\n",
    "\n",
    "for img_name in os.listdir(input_dir):\n",
    "    try:\n",
    "        img_path = os.path.join(input_dir, img_name)\n",
    "        img = cv2.imread(img_path)\n",
    "\n",
    "        if img is None:\n",
    "            print(f\"Error loading image {img_name}\")\n",
    "            continue\n",
    "\n",
    "        augmented_images = augment_image(img)\n",
    "\n",
    "        for i, aug_img in enumerate(augmented_images):\n",
    "            aug_img_name = f\"{os.path.splitext(img_name)[0]}_aug_{i}.jpg\"\n",
    "            aug_img_path = os.path.join(output_dir, aug_img_name)\n",
    "            cv2.imwrite(aug_img_path, aug_img)\n",
    "\n",
    "        print(f\"Processed {img_name}\")\n",
    "\n",
    "    except Exception as e:\n",
    "        print(f\"Error processing image {img_name}: {e}\")\n",
    "        continue"
   ]
  },
  {
   "cell_type": "code",
   "execution_count": 16,
   "id": "ba571d8d-81da-459d-92bf-d3f7b04eba82",
   "metadata": {},
   "outputs": [
    {
     "data": {
      "text/plain": [
       "'C:\\\\Users\\\\82106\\\\Desktop\\\\keb_기업연계'"
      ]
     },
     "execution_count": 16,
     "metadata": {},
     "output_type": "execute_result"
    }
   ],
   "source": [
    "pwd"
   ]
  },
  {
   "cell_type": "code",
   "execution_count": null,
   "id": "5e75d5b1-b43b-4e9c-b4a9-beed8e2bb3fc",
   "metadata": {},
   "outputs": [],
   "source": []
  }
 ],
 "metadata": {
  "kernelspec": {
   "display_name": "Python 3 (ipykernel)",
   "language": "python",
   "name": "python3"
  },
  "language_info": {
   "codemirror_mode": {
    "name": "ipython",
    "version": 3
   },
   "file_extension": ".py",
   "mimetype": "text/x-python",
   "name": "python",
   "nbconvert_exporter": "python",
   "pygments_lexer": "ipython3",
   "version": "3.12.4"
  }
 },
 "nbformat": 4,
 "nbformat_minor": 5
}
