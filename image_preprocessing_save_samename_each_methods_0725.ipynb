{
 "cells": [
  {
   "cell_type": "code",
   "execution_count": 1,
   "id": "f3c93853-30d3-452b-ae92-4197dfb3788a",
   "metadata": {},
   "outputs": [],
   "source": [
    "import cv2\n",
    "import matplotlib.pyplot as plt"
   ]
  },
  {
   "cell_type": "code",
   "execution_count": 2,
   "id": "bf7ad50c-3006-43ea-85c4-0411bcc7a7e6",
   "metadata": {},
   "outputs": [],
   "source": [
    "import numpy as np\n",
    "import os"
   ]
  },
  {
   "cell_type": "code",
   "execution_count": 29,
   "id": "78ebad9d-7f7c-419c-9780-824958911be8",
   "metadata": {},
   "outputs": [],
   "source": [
    "def save_image(image, folder_path, img_name):\n",
    "    \"\"\"저장된 이미지의 이름을 사용하여 저장합니다.\"\"\"\n",
    "    if not os.path.exists(folder_path):\n",
    "        os.makedirs(folder_path, exist_ok=True)\n",
    "    cv2.imwrite(os.path.join(folder_path, f'{img_name}.png'), image)\n",
    "\n",
    "def contrast_adjusted_save(image, save_dir, img_name):\n",
    "    gray_image = cv2.cvtColor(image, cv2.COLOR_BGR2GRAY)\n",
    "    contrasted_image = cv2.equalizeHist(gray_image)\n",
    "    folder_path = os.path.join(save_dir, 'contrast_adjusted')\n",
    "    save_image(contrasted_image, folder_path, img_name)\n",
    "\n",
    "def filtered_save(image, save_dir, img_name):\n",
    "    filtered_image = cv2.GaussianBlur(image, (5, 5), 0)\n",
    "    folder_path = os.path.join(save_dir, 'filtered')\n",
    "    save_image(filtered_image, folder_path, img_name)\n",
    "\n",
    "def edges_detected_save(image, save_dir, img_name):\n",
    "    gray_image = cv2.cvtColor(image, cv2.COLOR_BGR2GRAY)\n",
    "    edges_image = cv2.Canny(gray_image, 100, 200)\n",
    "    folder_path = os.path.join(save_dir, 'edges_detected')\n",
    "    save_image(edges_image, folder_path, img_name)\n",
    "\n",
    "def binarized_save(image, save_dir, img_name):\n",
    "    gray_image = cv2.cvtColor(image, cv2.COLOR_BGR2GRAY)\n",
    "    _, binary_image = cv2.threshold(gray_image, 127, 255, cv2.THRESH_BINARY)\n",
    "    folder_path = os.path.join(save_dir, 'binarized')\n",
    "    save_image(binary_image, folder_path, img_name)\n",
    "\n",
    "def morphological_operations_save(image, save_dir, img_name):\n",
    "    gray_image = cv2.cvtColor(image, cv2.COLOR_BGR2GRAY)\n",
    "    kernel = np.ones((5, 5), np.uint8)\n",
    "    dilation = cv2.dilate(gray_image, kernel, iterations=1)\n",
    "    erosion = cv2.erode(gray_image, kernel, iterations=1)\n",
    "    \n",
    "    dilation_path = os.path.join(save_dir, 'morphological_operations_dilation')\n",
    "    erosion_path = os.path.join(save_dir, 'morphological_operations_erosion')\n",
    "    \n",
    "    save_image(dilation, dilation_path, img_name)\n",
    "    save_image(erosion, erosion_path, img_name)\n",
    "\n",
    "def color_space_converted_save(image, save_dir, img_name):\n",
    "    hsv_image = cv2.cvtColor(image, cv2.COLOR_BGR2HSV)\n",
    "    folder_path = os.path.join(save_dir, 'color_space_converted')\n",
    "    save_image(hsv_image, folder_path, img_name)\n",
    "\n",
    "def image_pyramids_save(image, save_dir, img_name):\n",
    "    lower_reso = cv2.pyrDown(image)\n",
    "    higher_reso = cv2.pyrUp(image)\n",
    "    \n",
    "    lower_reso_path = os.path.join(save_dir, 'image_pyramids_lower_reso')\n",
    "    higher_reso_path = os.path.join(save_dir, 'image_pyramids_higher_reso')\n",
    "    \n",
    "    save_image(lower_reso, lower_reso_path, img_name)\n",
    "    save_image(higher_reso, higher_reso_path, img_name)"
   ]
  },
  {
   "cell_type": "code",
   "execution_count": 30,
   "id": "d327dc83-d1c4-4f84-90fc-84a543bec652",
   "metadata": {},
   "outputs": [],
   "source": [
    "def single_scale_retinex_save(image, save_dir, img_name, sigma=30):\n",
    "    def single_scale_retinex(image, sigma):\n",
    "        # Convert image to float32 to save memory\n",
    "        image = np.float32(image)\n",
    "        # Apply Gaussian blur\n",
    "        blurred = cv2.GaussianBlur(image, (0, 0), sigma)\n",
    "        # Compute Retinex\n",
    "        retinex = np.log10(image + 1) - np.log10(blurred + 1)\n",
    "        return retinex\n",
    "    \n",
    "    # Convert image to float32 and normalize to [0, 1]\n",
    "    image = np.float32(image) / 255.0\n",
    "    retinex_image = single_scale_retinex(image, sigma)\n",
    "    # Normalize Retinex image to [0, 255]\n",
    "    retinex_image = (retinex_image - np.min(retinex_image)) / (np.max(retinex_image) - np.min(retinex_image))\n",
    "    retinex_image = (retinex_image * 255).astype(np.uint8)\n",
    "    \n",
    "    # Save the image\n",
    "    folder_path = os.path.join(save_dir, 'retinex')\n",
    "    save_image(retinex_image, folder_path, img_name)"
   ]
  },
  {
   "cell_type": "code",
   "execution_count": 45,
   "id": "34b5858d-7325-4423-bb58-5434f3d07131",
   "metadata": {},
   "outputs": [],
   "source": [
    "# 전처리 작업 수행 및 저장 함수\n",
    "def process_and_save_images(image, save_dir, img_name):\n",
    "    # contrast_adjusted_save(image, save_dir, img_name)\n",
    "    single_scale_retinex_save(image, save_dir, img_name,sigma=30)\n",
    "\n",
    "    \n",
    "    # filtered_save(image, save_dir, img_name)\n",
    "    # edges_detected_save(image, save_dir, img_name)\n",
    "    # binarized_save(image, save_dir, img_name)\n",
    "    morphological_operations_save(image, save_dir, img_name)\n",
    "    color_space_converted_save(image, save_dir, img_name)\n",
    "    image_pyramids_save(image, save_dir, img_name)"
   ]
  },
  {
   "cell_type": "code",
   "execution_count": 46,
   "id": "bfc894c7-1263-4308-b18d-dac28525702b",
   "metadata": {
    "scrolled": true
   },
   "outputs": [
    {
     "data": {
      "text/plain": [
       "['0f8a0d31da08f91cca078083f61639f2.png',\n",
       " '2b959173066542cdb4116bfbc9e9b653.png',\n",
       " '3f3deaeec02f548f77ba8f0b6d42b8f4.png',\n",
       " '55d2f2222824afaf77f4f6f95125b49c.png',\n",
       " '5d5fad3b55d4381bfce6209dc099173a.png',\n",
       " '982892a470e0bff61bf0296ef9d0de27.png',\n",
       " 'aa589bf1acf2041ad2740b2a2f7fc4ee.png',\n",
       " 'd49aa76f859fdaf4e8d9131edaa86e3f.png',\n",
       " 'e79306014c4cc11bd5479b0b838785b7.png']"
      ]
     },
     "execution_count": 46,
     "metadata": {},
     "output_type": "execute_result"
    }
   ],
   "source": [
    "# 샘플 사진 폴더\n",
    "sample_dir = './new_pattern_img/fixed_camera_only_short_250725//images/train/' \n",
    "os.listdir(sample_dir)"
   ]
  },
  {
   "cell_type": "code",
   "execution_count": 47,
   "id": "a8d0c086-0b9d-4f7a-a3cb-235b6b1edeef",
   "metadata": {},
   "outputs": [],
   "source": [
    "# save 폴더 (샘플 사진과 구분해야함)\n",
    "save_dir = './preprocessed_images/train'"
   ]
  },
  {
   "cell_type": "code",
   "execution_count": 48,
   "id": "843c2858-c561-45d8-ab01-594a22845d6b",
   "metadata": {},
   "outputs": [],
   "source": [
    "for img_path in os.listdir(sample_dir):\n",
    "    img_name = img_path.split('.')[0]\n",
    "    \n",
    "    image = cv2.imread(os.path.join(sample_dir, img_path))\n",
    "    process_and_save_images(image, save_dir, img_name)"
   ]
  },
  {
   "cell_type": "code",
   "execution_count": 44,
   "id": "7a5b5916-b6cd-436f-af58-8e608c5f1c2a",
   "metadata": {},
   "outputs": [
    {
     "data": {
      "text/plain": [
       "'C:\\\\Users\\\\YJ_PC\\\\Desktop\\\\PCB_img_labelling'"
      ]
     },
     "execution_count": 44,
     "metadata": {},
     "output_type": "execute_result"
    }
   ],
   "source": [
    "%pwd"
   ]
  }
 ],
 "metadata": {
  "kernelspec": {
   "display_name": "Python 3 (ipykernel)",
   "language": "python",
   "name": "python3"
  },
  "language_info": {
   "codemirror_mode": {
    "name": "ipython",
    "version": 3
   },
   "file_extension": ".py",
   "mimetype": "text/x-python",
   "name": "python",
   "nbconvert_exporter": "python",
   "pygments_lexer": "ipython3",
   "version": "3.12.4"
  }
 },
 "nbformat": 4,
 "nbformat_minor": 5
}
