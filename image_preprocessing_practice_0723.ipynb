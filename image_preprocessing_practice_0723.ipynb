{
 "cells": [
  {
   "cell_type": "code",
   "execution_count": 5,
   "id": "f3c93853-30d3-452b-ae92-4197dfb3788a",
   "metadata": {},
   "outputs": [],
   "source": [
    "import cv2\n",
    "import matplotlib.pyplot as plt"
   ]
  },
  {
   "cell_type": "code",
   "execution_count": 6,
   "id": "bf7ad50c-3006-43ea-85c4-0411bcc7a7e6",
   "metadata": {},
   "outputs": [],
   "source": [
    "import numpy as np"
   ]
  },
  {
   "cell_type": "code",
   "execution_count": 46,
   "id": "45e3ed5b-9e92-47b1-a989-7975ce5bcc31",
   "metadata": {},
   "outputs": [],
   "source": [
    "img_path = \"01_on.jpg\""
   ]
  },
  {
   "cell_type": "code",
   "execution_count": 47,
   "id": "71a464c0-df42-4ce5-ac33-651fcc5c8bd4",
   "metadata": {},
   "outputs": [
    {
     "data": {
      "text/plain": [
       "True"
      ]
     },
     "execution_count": 47,
     "metadata": {},
     "output_type": "execute_result"
    }
   ],
   "source": [
    "image = cv2.imread(img_path)\n",
    "lower_reso = cv2.pyrDown(image)\n",
    "higher_reso = cv2.pyrUp(image)\n",
    "cv2.imwrite(f'lower_reso_{img_path}', lower_reso)\n",
    "cv2.imwrite(f'higher_reso_{img_path}', higher_reso)"
   ]
  },
  {
   "cell_type": "code",
   "execution_count": 48,
   "id": "abad5a89-1710-4a11-857b-b55d2bf76453",
   "metadata": {},
   "outputs": [
    {
     "data": {
      "text/plain": [
       "True"
      ]
     },
     "execution_count": 48,
     "metadata": {},
     "output_type": "execute_result"
    }
   ],
   "source": [
    "hsv_image = cv2.cvtColor(image, cv2.COLOR_BGR2HSV)\n",
    "cv2.imwrite(f'hsv_image_{img_path}', hsv_image)"
   ]
  },
  {
   "cell_type": "code",
   "execution_count": 49,
   "id": "957c8254-5a91-469e-82cb-516838f4686b",
   "metadata": {},
   "outputs": [
    {
     "data": {
      "text/plain": [
       "True"
      ]
     },
     "execution_count": 49,
     "metadata": {},
     "output_type": "execute_result"
    }
   ],
   "source": [
    "blurred_image = cv2.GaussianBlur(image, (5, 5), 0)\n",
    "cv2.imwrite(f'blurred_image_{img_path}', blurred_image)"
   ]
  },
  {
   "cell_type": "code",
   "execution_count": 50,
   "id": "9ab524cf-b119-4fa5-a9c0-788382d07a97",
   "metadata": {},
   "outputs": [
    {
     "data": {
      "text/plain": [
       "True"
      ]
     },
     "execution_count": 50,
     "metadata": {},
     "output_type": "execute_result"
    }
   ],
   "source": [
    "image = cv2.imread(img_path,0)\n",
    "equalized_image = cv2.equalizeHist(image)\n",
    "cv2.imwrite(f'equalized_image_{img_path}', equalized_image)"
   ]
  },
  {
   "cell_type": "code",
   "execution_count": 51,
   "id": "0c17430b-5122-4029-9ca3-180844a2a874",
   "metadata": {},
   "outputs": [
    {
     "data": {
      "text/plain": [
       "True"
      ]
     },
     "execution_count": 51,
     "metadata": {},
     "output_type": "execute_result"
    }
   ],
   "source": [
    "edges = cv2.Canny(image, 100, 200)\n",
    "cv2.imwrite(f'edges_{img_path}', edges)"
   ]
  },
  {
   "cell_type": "code",
   "execution_count": 52,
   "id": "786e8297-8418-4b52-a7fe-26a6e29825a6",
   "metadata": {},
   "outputs": [
    {
     "data": {
      "text/plain": [
       "True"
      ]
     },
     "execution_count": 52,
     "metadata": {},
     "output_type": "execute_result"
    }
   ],
   "source": [
    "kernel = np.ones((5, 5), np.uint8)\n",
    "dilation = cv2.dilate(image, kernel, iterations=1)\n",
    "erosion = cv2.erode(image, kernel, iterations=1)\n",
    "cv2.imwrite(f'dilation_{img_path}', dilation)\n",
    "cv2.imwrite(f'erosion_{img_path}', erosion)"
   ]
  },
  {
   "cell_type": "code",
   "execution_count": 53,
   "id": "a742ae74-4098-4711-a43d-7321b904d284",
   "metadata": {},
   "outputs": [
    {
     "data": {
      "text/plain": [
       "True"
      ]
     },
     "execution_count": 53,
     "metadata": {},
     "output_type": "execute_result"
    }
   ],
   "source": [
    "_, binary_image = cv2.threshold(image, 127, 255, cv2.THRESH_BINARY)\n",
    "cv2.imwrite(f'binary_image_{img_path}', binary_image)"
   ]
  },
  {
   "cell_type": "code",
   "execution_count": 54,
   "id": "70cc0b89-6a7e-42aa-9293-9d8953b96971",
   "metadata": {},
   "outputs": [],
   "source": [
    "# 빛 반사 제거\n",
    "def homomorphic_filter(image, d0=30, c=1.0, gH=2.0, gL=0.5):\n",
    "    # Convert image to log domain\n",
    "    image_log = np.log1p(np.array(image, dtype='float') / 255)\n",
    "    \n",
    "    # Perform DFT\n",
    "    dft = cv2.dft(np.float32(image_log), flags=cv2.DFT_COMPLEX_OUTPUT)\n",
    "    dft_shift = np.fft.fftshift(dft)\n",
    "    \n",
    "    # Create a high pass filter\n",
    "    rows, cols = image.shape\n",
    "    crow, ccol = rows // 2, cols // 2\n",
    "    mask = np.zeros((rows, cols, 2), np.float32)\n",
    "    for u in range(rows):\n",
    "        for v in range(cols):\n",
    "            duv = np.sqrt((u - crow) ** 2 + (v - ccol) ** 2)\n",
    "            mask[u, v] = (gH - gL) * (1 - np.exp(-c * (duv ** 2 / d0 ** 2))) + gL\n",
    "\n",
    "    # Apply mask and inverse DFT\n",
    "    fshift = dft_shift * mask\n",
    "    f_ishift = np.fft.ifftshift(fshift)\n",
    "    img_back = cv2.idft(f_ishift)\n",
    "    img_back = cv2.magnitude(img_back[:, :, 0], img_back[:, :, 1])\n",
    "    \n",
    "    # Convert back to spatial domain\n",
    "    img_homomorphic = np.expm1(img_back)\n",
    "    \n",
    "    # Clip the values to prevent overflow and normalize\n",
    "    img_homomorphic = np.clip(img_homomorphic, 0, None)\n",
    "    img_homomorphic = (img_homomorphic - np.amin(img_homomorphic)) / (np.amax(img_homomorphic) - np.amin(img_homomorphic))\n",
    "    img_homomorphic = (img_homomorphic * 255).astype(np.uint8)\n",
    "    \n",
    "    return img_homomorphic"
   ]
  },
  {
   "cell_type": "code",
   "execution_count": 55,
   "id": "21b2e131-2bf1-421e-9f6b-b5e3978413a8",
   "metadata": {},
   "outputs": [],
   "source": [
    "# # 흑백이미지 대상\n",
    "# image = cv2.imread(img_path, 0)  # Load as grayscale\n",
    "# homomorphic_image = homomorphic_filter(image, d0=30, c=1.0, gH=1.5, gL=0.8)\n",
    "# cv2.imwrite(f'homomorphic_image_{img_path}', homomorphic_image)"
   ]
  },
  {
   "cell_type": "code",
   "execution_count": 56,
   "id": "bdfbd06a-d040-4da8-8e04-83fe1f1432d1",
   "metadata": {},
   "outputs": [
    {
     "data": {
      "text/plain": [
       "True"
      ]
     },
     "execution_count": 56,
     "metadata": {},
     "output_type": "execute_result"
    }
   ],
   "source": [
    "clahe = cv2.createCLAHE(clipLimit=2.0, tileGridSize=(8, 8))\n",
    "equalized_image = clahe.apply(image)\n",
    "cv2.imwrite(f'equalized_image_{img_path}', equalized_image)"
   ]
  },
  {
   "cell_type": "code",
   "execution_count": 57,
   "id": "e932e891-be59-4e57-aea5-6ae6a421d0bd",
   "metadata": {},
   "outputs": [
    {
     "data": {
      "text/plain": [
       "True"
      ]
     },
     "execution_count": 57,
     "metadata": {},
     "output_type": "execute_result"
    }
   ],
   "source": [
    "def single_scale_retinex(image, sigma):\n",
    "    retinex = np.log10(image + 1) - np.log10(cv2.GaussianBlur(image, (0, 0), sigma) + 1)\n",
    "    return retinex\n",
    "\n",
    "image = cv2.imread(img_path) / 255.0\n",
    "sigma = 15\n",
    "retinex_image = single_scale_retinex(image, sigma)\n",
    "retinex_image = (retinex_image - np.min(retinex_image)) / (np.max(retinex_image) - np.min(retinex_image))\n",
    "retinex_image = (retinex_image * 255).astype(np.uint8)\n",
    "cv2.imwrite(f'retinex_image_{img_path}', retinex_image)"
   ]
  },
  {
   "cell_type": "code",
   "execution_count": 58,
   "id": "9a719344-ec10-4a11-b02d-53ee718e5c89",
   "metadata": {},
   "outputs": [
    {
     "data": {
      "text/plain": [
       "True"
      ]
     },
     "execution_count": 58,
     "metadata": {},
     "output_type": "execute_result"
    }
   ],
   "source": [
    "def add_lighting_effect(image, center=None, radius=100, strength=1.5):\n",
    "    if center is None:\n",
    "        center = (image.shape[1] // 2, image.shape[0] // 2)\n",
    "    \n",
    "    mask = np.zeros_like(image, dtype=np.float32)\n",
    "    cv2.circle(mask, center, radius, (255, 255, 255), -1)\n",
    "    mask = cv2.GaussianBlur(mask, (21, 21), 0)\n",
    "    \n",
    "    highlighted = cv2.addWeighted(image, 1, mask.astype(image.dtype), strength, 0)\n",
    "    return highlighted\n",
    "\n",
    "image = cv2.imread(img_path)\n",
    "highlighted_image = add_lighting_effect(image)\n",
    "cv2.imwrite(f'highlighted_image_{img_path}', highlighted_image)"
   ]
  },
  {
   "cell_type": "code",
   "execution_count": null,
   "id": "6e3e8397-ce8d-4181-a2b2-f7465531b3af",
   "metadata": {},
   "outputs": [],
   "source": []
  }
 ],
 "metadata": {
  "kernelspec": {
   "display_name": "Python 3 (ipykernel)",
   "language": "python",
   "name": "python3"
  },
  "language_info": {
   "codemirror_mode": {
    "name": "ipython",
    "version": 3
   },
   "file_extension": ".py",
   "mimetype": "text/x-python",
   "name": "python",
   "nbconvert_exporter": "python",
   "pygments_lexer": "ipython3",
   "version": "3.12.4"
  }
 },
 "nbformat": 4,
 "nbformat_minor": 5
}
