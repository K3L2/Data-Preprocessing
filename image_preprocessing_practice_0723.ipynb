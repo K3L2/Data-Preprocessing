{
 "cells": [
  {
   "cell_type": "code",
   "execution_count": 1,
   "id": "f3c93853-30d3-452b-ae92-4197dfb3788a",
   "metadata": {},
   "outputs": [],
   "source": [
    "import cv2\n",
    "import matplotlib.pyplot as plt"
   ]
  },
  {
   "cell_type": "code",
   "execution_count": 2,
   "id": "bf7ad50c-3006-43ea-85c4-0411bcc7a7e6",
   "metadata": {},
   "outputs": [],
   "source": [
    "import numpy as np\n",
    "import os"
   ]
  },
  {
   "cell_type": "code",
   "execution_count": 35,
   "id": "bfc894c7-1263-4308-b18d-dac28525702b",
   "metadata": {
    "scrolled": true
   },
   "outputs": [
    {
     "data": {
      "text/plain": [
       "['ink_01.jpg',\n",
       " 'ink_02.jpg',\n",
       " 'ink_03.jpg',\n",
       " 'ink_04.jpg',\n",
       " 'ink_05.jpg',\n",
       " 'ink_06.jpg']"
      ]
     },
     "execution_count": 35,
     "metadata": {},
     "output_type": "execute_result"
    }
   ],
   "source": [
    "# 샘플 사진 폴더\n",
    "sample_dir = './sample/' \n",
    "os.listdir(sample_dir)"
   ]
  },
  {
   "cell_type": "code",
   "execution_count": 36,
   "id": "a8d0c086-0b9d-4f7a-a3cb-235b6b1edeef",
   "metadata": {},
   "outputs": [],
   "source": [
    "# save 폴더 (샘플 사진과 구분해야함)\n",
    "save_dir = './preprocessed'"
   ]
  },
  {
   "cell_type": "code",
   "execution_count": 17,
   "id": "2b050db8-c113-45b5-8ede-061c94f69d70",
   "metadata": {},
   "outputs": [
    {
     "data": {
      "text/plain": [
       "'./sample/ink_01'"
      ]
     },
     "execution_count": 17,
     "metadata": {},
     "output_type": "execute_result"
    }
   ],
   "source": [
    "os.path.join(sample_dir,os.listdir(sample_dir)[0])"
   ]
  },
  {
   "cell_type": "code",
   "execution_count": 37,
   "id": "a207f8e4-b1ad-4d6d-a466-ce6aff1e4a4d",
   "metadata": {},
   "outputs": [],
   "source": [
    "# 전처리 방식들\n",
    "def save_image(image, folder_path, img_name, suffix):\n",
    "    \"\"\"저장된 이미지의 이름에 suffix를 추가하여 저장합니다.\"\"\"\n",
    "    if not os.path.exists(folder_path):\n",
    "        os.makedirs(folder_path)\n",
    "    cv2.imwrite(os.path.join(folder_path, f'{suffix}_{img_name}.jpg'), image)\n",
    "\n",
    "def resized_save(image, folder_path, img_name, width=800, height=600):\n",
    "    resized_image = cv2.resize(image, (width, height))\n",
    "    save_image(resized_image, folder_path, img_name, 'resized')\n",
    "\n",
    "def normalized_save(image, folder_path, img_name):\n",
    "    normalized_image = image / 255.0\n",
    "    normalized_image = (normalized_image * 255).astype(np.uint8)\n",
    "    save_image(normalized_image, folder_path, img_name, 'normalized')\n",
    "\n",
    "def augmented_save(image, folder_path, img_name):\n",
    "    angle = np.random.uniform(-30, 30)\n",
    "    M = cv2.getRotationMatrix2D((image.shape[1] / 2, image.shape[0] / 2), angle, 1)\n",
    "    rotated_image = cv2.warpAffine(image, M, (image.shape[1], image.shape[0]))\n",
    "    flipped_image = cv2.flip(rotated_image, 1)\n",
    "    value = np.random.uniform(0.5, 1.5)\n",
    "    hsv = cv2.cvtColor(flipped_image, cv2.COLOR_BGR2HSV)\n",
    "    hsv[..., 2] = hsv[..., 2] * value\n",
    "    augmented_image = cv2.cvtColor(hsv, cv2.COLOR_HSV2BGR)\n",
    "    save_image(augmented_image, folder_path, img_name, 'augmented')\n",
    "\n",
    "def contrast_adjusted_save(image, folder_path, img_name):\n",
    "    gray_image = cv2.cvtColor(image, cv2.COLOR_BGR2GRAY)\n",
    "    contrasted_image = cv2.equalizeHist(gray_image)\n",
    "    save_image(contrasted_image, folder_path, img_name, 'contrasted')\n",
    "\n",
    "def filtered_save(image, folder_path, img_name):\n",
    "    filtered_image = cv2.GaussianBlur(image, (5, 5), 0)\n",
    "    save_image(filtered_image, folder_path, img_name, 'filtered')\n",
    "\n",
    "def edges_detected_save(image, folder_path, img_name):\n",
    "    gray_image = cv2.cvtColor(image, cv2.COLOR_BGR2GRAY)\n",
    "    edges_image = cv2.Canny(gray_image, 100, 200)\n",
    "    save_image(edges_image, folder_path, img_name, 'edges')\n",
    "\n",
    "def binarized_save(image, folder_path, img_name):\n",
    "    gray_image = cv2.cvtColor(image, cv2.COLOR_BGR2GRAY)\n",
    "    _, binary_image = cv2.threshold(gray_image, 127, 255, cv2.THRESH_BINARY)\n",
    "    save_image(binary_image, folder_path, img_name, 'binary')\n",
    "\n",
    "def morphological_operations_save(image, folder_path, img_name):\n",
    "    gray_image = cv2.cvtColor(image, cv2.COLOR_BGR2GRAY)\n",
    "    kernel = np.ones((5, 5), np.uint8)\n",
    "    dilation = cv2.dilate(gray_image, kernel, iterations=1)\n",
    "    erosion = cv2.erode(gray_image, kernel, iterations=1)\n",
    "    save_image(dilation, folder_path, img_name, 'dilation')\n",
    "    save_image(erosion, folder_path, img_name, 'erosion')\n",
    "\n",
    "def color_space_converted_save(image, folder_path, img_name):\n",
    "    hsv_image = cv2.cvtColor(image, cv2.COLOR_BGR2HSV)\n",
    "    save_image(hsv_image, folder_path, img_name, 'hsv')\n",
    "\n",
    "def image_pyramids_save(image, folder_path, img_name):\n",
    "    lower_reso = cv2.pyrDown(image)\n",
    "    higher_reso = cv2.pyrUp(image)\n",
    "    save_image(lower_reso, folder_path, img_name, 'lower_reso')\n",
    "    save_image(higher_reso, folder_path, img_name, 'higher_reso')\n",
    "\n",
    "def single_scale_retinex_save(image, folder_path, img_name, sigma):\n",
    "    def single_scale_retinex(image, sigma):\n",
    "        retinex = np.log10(image + 1) - np.log10(cv2.GaussianBlur(image, (0, 0), sigma) + 1)\n",
    "        return retinex\n",
    "    \n",
    "    image = image / 255.0\n",
    "    retinex_image = single_scale_retinex(image, sigma)\n",
    "    retinex_image = (retinex_image - np.min(retinex_image)) / (np.max(retinex_image) - np.min(retinex_image))\n",
    "    retinex_image = (retinex_image * 255).astype(np.uint8)\n",
    "    \n",
    "    save_image(retinex_image, folder_path, img_name, 'retinex')\n"
   ]
  },
  {
   "cell_type": "code",
   "execution_count": 34,
   "id": "8dd09db5-6205-4507-916d-dfbeaf291e45",
   "metadata": {},
   "outputs": [],
   "source": [
    "def process_and_save_images(image, folder_path, img_name):\n",
    "\n",
    "    contrast_adjusted_save(image, folder_path, img_name)\n",
    "    filtered_save(image, folder_path, img_name)\n",
    "    edges_detected_save(image, folder_path, img_name)\n",
    "    binarized_save(image, folder_path, img_name)\n",
    "    morphological_operations_save(image, folder_path, img_name)\n",
    "    color_space_converted_save(image, folder_path, img_name)\n",
    "    image_pyramids_save(image, folder_path, img_name)\n",
    "    single_scale_retinex_save(image, folder_path, img_name,sigma=15)\n"
   ]
  },
  {
   "cell_type": "code",
   "execution_count": 32,
   "id": "80db0d7b-a13c-4f01-8655-45cc944d4d94",
   "metadata": {},
   "outputs": [],
   "source": [
    "for img_path in os.listdir(sample_dir):\n",
    "    img_name = img_path.split('.')[0]\n",
    "    save_path = f'{save_dir}/{img_name}'\n",
    "    os.makedirs(save_path,exist_ok=True)\n",
    "\n",
    "    image = cv2.imread(os.path.join(sample_dir,img_path))\n",
    "    process_and_save_images(image,save_path,img_name)"
   ]
  }
 ],
 "metadata": {
  "kernelspec": {
   "display_name": "Python 3 (ipykernel)",
   "language": "python",
   "name": "python3"
  },
  "language_info": {
   "codemirror_mode": {
    "name": "ipython",
    "version": 3
   },
   "file_extension": ".py",
   "mimetype": "text/x-python",
   "name": "python",
   "nbconvert_exporter": "python",
   "pygments_lexer": "ipython3",
   "version": "3.12.4"
  }
 },
 "nbformat": 4,
 "nbformat_minor": 5
}
